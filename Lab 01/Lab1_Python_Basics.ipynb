{
 "cells": [
  {
   "cell_type": "markdown",
   "id": "a2afeab5-5a7d-46a4-bdd1-35f120f22166",
   "metadata": {},
   "source": [
    "## Writing Python Scripts"
   ]
  },
  {
   "cell_type": "code",
   "execution_count": 1,
   "id": "fe5abde1-cf6c-4691-b0d7-6fd0000b51ac",
   "metadata": {},
   "outputs": [
    {
     "name": "stdout",
     "output_type": "stream",
     "text": [
      "My name is Mirzan and I am 23 years old.\n"
     ]
    }
   ],
   "source": [
    "name = \"Mirzan\"\n",
    "age = \"23\"\n",
    "\n",
    "print(f'My name is {name} and I am {age} years old.')"
   ]
  },
  {
   "cell_type": "code",
   "execution_count": 4,
   "id": "d0c3e833-8b46-43ca-bd37-ee51b9440fa3",
   "metadata": {},
   "outputs": [
    {
     "name": "stdout",
     "output_type": "stream",
     "text": [
      "I love apple\n",
      "I love orange\n",
      "I love banana\n"
     ]
    }
   ],
   "source": [
    "fruits = [\"apple\",\"orange\",\"banana\"]\n",
    "for fruit in fruits:\n",
    "    print(f'I love {fruit}')"
   ]
  },
  {
   "cell_type": "code",
   "execution_count": 9,
   "id": "67b45d10-4b08-43f9-8c24-047125bd417e",
   "metadata": {},
   "outputs": [
    {
     "name": "stdout",
     "output_type": "stream",
     "text": [
      "Hello, Mirzan!\n"
     ]
    }
   ],
   "source": [
    "def greet(name):\n",
    "    return f\"Hello, {name}!\"\n",
    "print(greet(\"Mirzan\"))"
   ]
  },
  {
   "cell_type": "markdown",
   "id": "be5b280e-eda6-45a6-aadc-f99e850e9c15",
   "metadata": {},
   "source": [
    "## Basic File Handling"
   ]
  },
  {
   "cell_type": "markdown",
   "id": "27a41e69-7d48-40da-a0a5-d30e0e8ef153",
   "metadata": {},
   "source": [
    "### Reading a CSV file"
   ]
  },
  {
   "cell_type": "code",
   "execution_count": 10,
   "id": "027ccf8d-8b88-4b2a-bc92-c4ad3f5d110f",
   "metadata": {},
   "outputs": [
    {
     "name": "stdout",
     "output_type": "stream",
     "text": [
      "   Monday  Tuesday  Wednesday  Thursday  Friday\n",
      "0      10       25         65        98      65\n",
      "1      45       87         55         4      86\n",
      "2      25       30        100        62      91\n",
      "3      25       47         87        49      55\n",
      "4      20       10         51        51      61\n"
     ]
    }
   ],
   "source": [
    "import pandas as pd \n",
    "df = pd.read_csv(\"sample.csv\") \n",
    "print(df.head()) "
   ]
  },
  {
   "cell_type": "markdown",
   "id": "77e5cfc7-2119-4a09-a3cf-290e1e9cb779",
   "metadata": {},
   "source": [
    "### Writing to a CSV file"
   ]
  },
  {
   "cell_type": "code",
   "execution_count": 11,
   "id": "ebff8848-184e-4bff-921c-ea603884b6f8",
   "metadata": {},
   "outputs": [],
   "source": [
    "df.to_csv(\"output.csv\", index=False)"
   ]
  },
  {
   "cell_type": "markdown",
   "id": "d7e9ff7f-baf4-4336-9ded-be81309caed5",
   "metadata": {},
   "source": [
    "### Reading and writing JSON files:"
   ]
  },
  {
   "cell_type": "code",
   "execution_count": 15,
   "id": "0f0df4d1-c6f6-4ccf-9ca8-621875471be6",
   "metadata": {},
   "outputs": [
    {
     "name": "stdout",
     "output_type": "stream",
     "text": [
      "{'Name': 'Mirzan', 'Age': 23}\n"
     ]
    }
   ],
   "source": [
    "import json\n",
    "data = {\n",
    "    \"Name\" : \"Mirzan\",\n",
    "    \"Age\" : 23\n",
    "}\n",
    "with open(\"data.json\",'w') as file:\n",
    "    json.dump(data,file)\n",
    "\n",
    "with open('data.json','r') as file:\n",
    "    loaded_json = json.load(file)\n",
    "    print(loaded_json)"
   ]
  },
  {
   "cell_type": "markdown",
   "id": "92597da7-9aff-43b4-811e-0940b6669e9e",
   "metadata": {},
   "source": [
    "## Lab Questions "
   ]
  },
  {
   "cell_type": "markdown",
   "id": "1fc503f2-4235-43d6-b6a6-2d0b937c2ac7",
   "metadata": {},
   "source": [
    "#### Write a Python script that calculates the factorial of a given number."
   ]
  },
  {
   "cell_type": "code",
   "execution_count": null,
   "id": "5541b97a-c9c9-4fdd-a2c3-98e94fe584ef",
   "metadata": {},
   "outputs": [],
   "source": [
    "\n",
    "num = int(input(\"Enter a number: \"))\n",
    "\n",
    "def factorial(num):\n",
    "    if num<0:\n",
    "        return f'{num} is less than zero'\n",
    "    elif num==0:\n",
    "        return \"Factorial of 0 is 1\"\n",
    "    else: \n",
    "        factorial = 1\n",
    "        for i in range(num):\n",
    "            factorial *= i+1\n",
    "        print(f'Factorial: {factorial}')\n",
    "\n",
    "factorial(num)"
   ]
  },
  {
   "cell_type": "markdown",
   "id": "9ddbd4e3-c088-4389-96cc-c4f996d152bb",
   "metadata": {},
   "source": [
    "#### Create a JSON file containing a list of items, read it, and print its contents."
   ]
  },
  {
   "cell_type": "code",
   "execution_count": 25,
   "id": "ca8839fa-71fb-4f38-b886-214d16623faf",
   "metadata": {},
   "outputs": [
    {
     "name": "stdout",
     "output_type": "stream",
     "text": [
      "{'Programming Languages': ['Python', 'R', 'SQL'], 'Libraries': ['Pandas', 'NumPy', 'Scikit-learn', 'Matplotlib'], 'Tools': ['Power BI', 'Tableau', 'Excel']}\n"
     ]
    }
   ],
   "source": [
    "data = {\n",
    "    'Programming Languages': ['Python', 'R', 'SQL'],\n",
    "    'Libraries': ['Pandas', 'NumPy', 'Scikit-learn', 'Matplotlib'],\n",
    "    'Tools': ['Power BI', 'Tableau', 'Excel']\n",
    "}\n",
    "\n",
    "with open('data.json','w') as file:\n",
    "    json.dump(data,file)\n",
    "\n",
    "with open('data.json','r') as file:\n",
    "    loaded_json = json.load(file)\n",
    "    print(loaded_json)"
   ]
  },
  {
   "cell_type": "markdown",
   "id": "5bcdfc15-2643-4e18-b991-24b85a136af2",
   "metadata": {},
   "source": [
    "### Document the steps to open and execute a notebook in Jupyter.\n",
    "\n",
    "#### Install Jupyter (if needed):\n",
    "\n",
    "If you don't have Jupyter installed, open the command prompt or terminal and type:\n",
    "bash\n",
    "Copy\n",
    "Edit\n",
    "pip install notebook\n",
    "\n",
    "#### Launch Jupyter Notebook:\n",
    "\n",
    "Open your command prompt (Windows) or terminal (Mac/Linux).\n",
    "Type jupyter notebook and press Enter.\n",
    "This will open Jupyter Notebook in your default web browser.\n",
    "\n",
    "#### Navigate to your working folder:\n",
    "\n",
    "In the Jupyter interface (web browser), you’ll see a list of folders and files.\n",
    "Navigate to the folder where your notebook file (.ipynb) is stored.\n",
    "\n",
    "#### Open a notebook:\n",
    "\n",
    "Find your notebook file and click on its name (it will have a .ipynb extension).\n",
    "This will open the notebook in a new tab for editing and running.\n",
    "\n",
    "#### Run code cells:\n",
    "\n",
    "The notebook is divided into cells. Each cell can contain code or text.\n",
    "Click inside a code cell, and to execute the code, press Shift + Enter or click the Run button at the top.\n",
    "\n",
    "#### Save your work:\n",
    "\n",
    "To save changes, click the Save icon (a floppy disk) at the top left or press Ctrl + S.\n",
    "\n",
    "#### Close Jupyter Notebook:\n",
    "\n",
    "When you're done, go back to the terminal where you launched Jupyter.\n",
    "Press Ctrl + C to stop the notebook server, then type y and press Enter to confirm the shutdown."
   ]
  },
  {
   "cell_type": "code",
   "execution_count": null,
   "id": "b6e93581-ecb8-46d3-89ee-1de348b80a7d",
   "metadata": {},
   "outputs": [],
   "source": []
  }
 ],
 "metadata": {
  "kernelspec": {
   "display_name": "Python 3 (ipykernel)",
   "language": "python",
   "name": "python3"
  },
  "language_info": {
   "codemirror_mode": {
    "name": "ipython",
    "version": 3
   },
   "file_extension": ".py",
   "mimetype": "text/x-python",
   "name": "python",
   "nbconvert_exporter": "python",
   "pygments_lexer": "ipython3",
   "version": "3.12.4"
  }
 },
 "nbformat": 4,
 "nbformat_minor": 5
}
